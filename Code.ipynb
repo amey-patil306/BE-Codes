{
 "cells": [
  {
   "cell_type": "code",
   "execution_count": 1,
   "metadata": {},
   "outputs": [
    {
     "name": "stdout",
     "output_type": "stream",
     "text": [
      "Word  | Stem  | Lemma\n",
      "----------------------\n",
      "playing  | play  | playing\n",
      "happily  | happili  | happily\n",
      "governed  | govern  | governed\n",
      "nationally  | nation  | nationally\n",
      "running  | run  | running\n",
      "kindness  | kind  | kindness\n"
     ]
    }
   ],
   "source": [
    "import nltk\n",
    "from nltk.stem import PorterStemmer, WordNetLemmatizer\n",
    "\n",
    "# Initialize stemmer and lemmatizer\n",
    "stemmer = PorterStemmer()\n",
    "lemmatizer = WordNetLemmatizer()\n",
    "\n",
    "# Sample words\n",
    "words = [\"playing\", \"happily\", \"governed\", \"nationally\", \"running\", \"kindness\"]\n",
    "\n",
    "# Morphological Analysis\n",
    "print(\"Word  | Stem  | Lemma\")\n",
    "print(\"----------------------\")\n",
    "for word in words:\n",
    "    stem = stemmer.stem(word)  # Stemming (Inflectional Morphology)\n",
    "    lemma = lemmatizer.lemmatize(word)  # Lemmatization (Base Form)\n",
    "    print(f\"{word}  | {stem}  | {lemma}\")\n"
   ]
  }
 ],
 "metadata": {
  "kernelspec": {
   "display_name": "Python 3",
   "language": "python",
   "name": "python3"
  },
  "language_info": {
   "codemirror_mode": {
    "name": "ipython",
    "version": 3
   },
   "file_extension": ".py",
   "mimetype": "text/x-python",
   "name": "python",
   "nbconvert_exporter": "python",
   "pygments_lexer": "ipython3",
   "version": "3.10.11"
  }
 },
 "nbformat": 4,
 "nbformat_minor": 2
}
