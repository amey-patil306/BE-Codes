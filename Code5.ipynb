{
 "cells": [
  {
   "cell_type": "code",
   "execution_count": null,
   "metadata": {},
   "outputs": [],
   "source": [
    "import nltk\n",
    "from nltk.stem import PorterStemmer, WordNetLemmatizer\n",
    "from nltk.corpus import wordnet\n",
    "\n",
    "# Download required data (only once)\n",
    "nltk.download('wordnet')\n",
    "nltk.download('omw-1.4')\n",
    "\n",
    "# Initialize stemmer and lemmatizer\n",
    "stemmer = PorterStemmer()\n",
    "lemmatizer = WordNetLemmatizer()\n",
    "\n",
    "# Sample words and their POS tags ('v' = verb, 'n' = noun, 'a' = adjective, 'r' = adverb)\n",
    "words_with_pos = [\n",
    "    (\"playing\", \"v\"),\n",
    "    (\"happily\", \"r\"),\n",
    "    (\"governed\", \"v\"),\n",
    "    (\"nationally\", \"r\"),\n",
    "    (\"running\", \"v\"),\n",
    "    (\"kindness\", \"n\")\n",
    "]\n",
    "\n",
    "# Morphological Analysis\n",
    "print(\"Word        | Stem      | Lemma\")\n",
    "print(\"--------------------------------\")\n",
    "for word, pos in words_with_pos:\n",
    "    stem = stemmer.stem(word)\n",
    "    lemma = lemmatizer.lemmatize(word, pos=pos)\n",
    "    print(f\"{word:<11} | {stem:<9} | {lemma}\")\n"
   ]
  }
 ],
 "metadata": {
  "kernelspec": {
   "display_name": "Python 3",
   "language": "python",
   "name": "python3"
  },
  "language_info": {
   "codemirror_mode": {
    "name": "ipython",
    "version": 3
   },
   "file_extension": ".py",
   "mimetype": "text/x-python",
   "name": "python",
   "nbconvert_exporter": "python",
   "pygments_lexer": "ipython3",
   "version": "3.10.11"
  }
 },
 "nbformat": 4,
 "nbformat_minor": 2
}
